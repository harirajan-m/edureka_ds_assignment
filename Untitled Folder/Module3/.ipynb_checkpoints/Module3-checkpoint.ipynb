{
 "cells": [
  {
   "cell_type": "markdown",
   "id": "0fc38e5e-18fc-47a3-a2cc-57fb81fdf356",
   "metadata": {},
   "source": [
    "1.A Robot moves in a Plane starting from the origin point (0,0). The robot can move toward UP, DOWN, LEFT, RIGHT. The trace of Robot movement is as given following:UP 5 DOWN 3 LEFT 3 RIGHT 2 The numbers after directions are steps.  \n",
    "\n",
    "Write a program to compute the distance current position after sequence of movements.\n",
    "\n",
    "Hint: Use math module.2.Data of XYZ company is stored in sorted list. Write a program for searching specific data from that list.Hint: Use if/elif to deal with conditions.3.Weather forecasting organization wants to show is it day or night. So, write a program for such organization to findwhether is it dark outside or not.Hint: Use time module.4.Write a program to find distancebetween two locations when their latitude and longitudes are given.Hint: Use math module.5.Design a software for bank system. There should be options like cash withdraw, cash credit and change password. According to user input, the software should provide required output.Hint: Use if else statements and functions.\n"
   ]
  },
  {
   "cell_type": "code",
   "execution_count": 4,
   "id": "a38111f2-336a-4467-8f5f-1cfae290f435",
   "metadata": {},
   "outputs": [
    {
     "data": {
      "text/plain": [
       "{'__CFBundleIdentifier': 'com.apple.Terminal',\n",
       " 'TMPDIR': '/var/folders/lb/pjp7ws5j4fz29q2bt2h9mjtr0000gn/T/',\n",
       " 'XPC_FLAGS': '0x0',\n",
       " 'TERM': 'xterm-color',\n",
       " 'SSH_AUTH_SOCK': '/private/tmp/com.apple.launchd.5UMPQSCx4S/Listeners',\n",
       " 'XPC_SERVICE_NAME': '0',\n",
       " 'TERM_PROGRAM': 'Apple_Terminal',\n",
       " 'TERM_PROGRAM_VERSION': '453',\n",
       " 'TERM_SESSION_ID': '38C40206-C4CD-4CF0-AE04-A53294251942',\n",
       " 'SHELL': '/bin/zsh',\n",
       " 'HOME': '/Users/hari',\n",
       " 'LOGNAME': 'hari',\n",
       " 'USER': 'hari',\n",
       " 'PATH': '/opt/homebrew/opt/openjdk@11/bin:/opt/homebrew/bin:/opt/homebrew/sbin:/usr/local/bin:/System/Cryptexes/App/usr/bin:/usr/bin:/bin:/usr/sbin:/sbin:/var/run/com.apple.security.cryptexd/codex.system/bootstrap/usr/local/bin:/var/run/com.apple.security.cryptexd/codex.system/bootstrap/usr/bin:/var/run/com.apple.security.cryptexd/codex.system/bootstrap/usr/appleinternal/bin:/Applications/VMware Fusion.app/Contents/Public:/usr/local/go/bin',\n",
       " 'SHLVL': '1',\n",
       " 'PWD': '/Users/hari',\n",
       " 'OLDPWD': '/Users/hari',\n",
       " 'HOMEBREW_PREFIX': '/opt/homebrew',\n",
       " 'HOMEBREW_CELLAR': '/opt/homebrew/Cellar',\n",
       " 'HOMEBREW_REPOSITORY': '/opt/homebrew',\n",
       " 'MANPATH': '/opt/homebrew/share/man::',\n",
       " 'INFOPATH': '/opt/homebrew/share/info:',\n",
       " 'LANG': 'en_US.UTF-8',\n",
       " '_': '/opt/homebrew/bin/jupyter',\n",
       " '__CF_USER_TEXT_ENCODING': '0x1F5:0x0:0x0',\n",
       " 'JPY_SESSION_NAME': '/Users/hari/Desktop/edureka/Untitled Folder/Module3/Untitled.ipynb',\n",
       " 'JPY_PARENT_PID': '5528',\n",
       " 'PYDEVD_USE_FRAME_EVAL': 'NO',\n",
       " 'CLICOLOR': '1',\n",
       " 'FORCE_COLOR': '1',\n",
       " 'CLICOLOR_FORCE': '1',\n",
       " 'PAGER': 'cat',\n",
       " 'GIT_PAGER': 'cat',\n",
       " 'MPLBACKEND': 'module://matplotlib_inline.backend_inline'}"
      ]
     },
     "execution_count": 4,
     "metadata": {},
     "output_type": "execute_result"
    }
   ],
   "source": [
    "import math\n",
    "def moveUp(coord,times):\n",
    "    x,y = coord\n",
    "    new_x = x\n",
    "    new_y = y + times\n",
    "    return new_x,new_y\n",
    "\n",
    "def moveDown(coord,times):\n",
    "    x,y = coord\n",
    "    new_x = x\n",
    "    new_y = y - times\n",
    "    return new_x,new_y\n",
    "\n",
    "def moveLeft(coord,times):\n",
    "    x,y = coord\n",
    "    new_x = x - times\n",
    "    new_y = y\n",
    "    return new_x,new_y\n",
    "    \n",
    "def moveRight(coord,times)\n",
    "    x,y = coord\n",
    "    new_x = x + times\n",
    "    new_y = y\n",
    "    return new_x,new_y\n",
    "\n",
    "start = (0,0)\n",
    "print(\"Start position is {}\".format(start))\n",
    "curr_position = moveUp(start,5)\n",
    "print(\"Start position is {}\".format(start))\n",
    "curr_position = moveDown(curr_position,3)\n",
    "print(\"Start position is {}\".format(start))\n",
    "curr_position = moveLeft(curr_position,3)\n",
    "print(\"Start position is {}\".format(start))\n",
    "curr_position = moveRight(curr_position,2)\n"
   ]
  },
  {
   "cell_type": "code",
   "execution_count": null,
   "id": "c1103ad2-3b1f-4b07-911f-1d78827cc675",
   "metadata": {},
   "outputs": [],
   "source": []
  }
 ],
 "metadata": {
  "kernelspec": {
   "display_name": "Python 3 (ipykernel)",
   "language": "python",
   "name": "python3"
  },
  "language_info": {
   "codemirror_mode": {
    "name": "ipython",
    "version": 3
   },
   "file_extension": ".py",
   "mimetype": "text/x-python",
   "name": "python",
   "nbconvert_exporter": "python",
   "pygments_lexer": "ipython3",
   "version": "3.12.2"
  }
 },
 "nbformat": 4,
 "nbformat_minor": 5
}
