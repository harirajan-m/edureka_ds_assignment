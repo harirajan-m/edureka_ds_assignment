{
 "cells": [
  {
   "cell_type": "markdown",
   "id": "0fc38e5e-18fc-47a3-a2cc-57fb81fdf356",
   "metadata": {},
   "source": [
    "1.A Robot moves in a Plane starting from the origin point (0,0). The robot can move toward UP, DOWN, LEFT, RIGHT. The trace of Robot movement is as given following:UP 5 DOWN 3 LEFT 3 RIGHT 2 The numbers after directions are steps.  \n",
    "\n",
    "Write a program to compute the distance current position after sequence of movements.\n",
    "\n",
    "Hint: Use math module.\n",
    "\n",
    "3.Weather forecasting organization wants to show is it day or night. So, write a program for such organization to findwhether is it dark outside or not.Hint: Use time module.4.Write a program to find distancebetween two locations when their latitude and longitudes are given.Hint: Use math module.5.Design a software for bank system. There should be options like cash withdraw, cash credit and change password. According to user input, the software should provide required output.Hint: Use if else statements and functions.\n"
   ]
  },
  {
   "cell_type": "code",
   "execution_count": 6,
   "id": "a38111f2-336a-4467-8f5f-1cfae290f435",
   "metadata": {},
   "outputs": [
    {
     "name": "stdout",
     "output_type": "stream",
     "text": [
      "Start position is (0, 0)\n",
      "After moving up is (0, 5)\n",
      "After moving down is (0, 2)\n",
      "After moving left is (-3, 2)\n",
      "After moving right is (-1, 2)\n"
     ]
    }
   ],
   "source": [
    "import math\n",
    "def moveUp(coord,times):\n",
    "    x,y = coord\n",
    "    new_x = x\n",
    "    new_y = y + times\n",
    "    return new_x,new_y\n",
    "\n",
    "def moveDown(coord,times):\n",
    "    x,y = coord\n",
    "    new_x = x\n",
    "    new_y = y - times\n",
    "    return new_x,new_y\n",
    "\n",
    "def moveLeft(coord,times):\n",
    "    x,y = coord\n",
    "    new_x = x - times\n",
    "    new_y = y\n",
    "    return new_x,new_y\n",
    "    \n",
    "def moveRight(coord,times):\n",
    "    x,y = coord\n",
    "    new_x = x + times\n",
    "    new_y = y\n",
    "    return new_x,new_y\n",
    "\n",
    "start = (0,0)\n",
    "print(\"Start position is {}\".format(start))\n",
    "curr_position = moveUp(start,5)\n",
    "print(\"After moving up is {}\".format(curr_position))\n",
    "curr_position = moveDown(curr_position,3)\n",
    "print(\"After moving down is {}\".format(curr_position))\n",
    "curr_position = moveLeft(curr_position,3)\n",
    "print(\"After moving left is {}\".format(curr_position))\n",
    "curr_position = moveRight(curr_position,2)\n",
    "print(\"After moving right is {}\".format(curr_position))\n"
   ]
  },
  {
   "cell_type": "markdown",
   "id": "7c32c8bb-e25e-4ee3-ba88-54687f3d5ec4",
   "metadata": {},
   "source": [
    "2.Data of XYZ company is stored in sorted list. Write a program for searching specific data from that list.\n",
    "\n",
    "Hint: Use if/elif to deal with conditions."
   ]
  },
  {
   "cell_type": "code",
   "execution_count": null,
   "id": "7042a4ec-5a13-416f-a56e-37c496c72dc7",
   "metadata": {},
   "outputs": [],
   "source": []
  }
 ],
 "metadata": {
  "kernelspec": {
   "display_name": "Python 3 (ipykernel)",
   "language": "python",
   "name": "python3"
  },
  "language_info": {
   "codemirror_mode": {
    "name": "ipython",
    "version": 3
   },
   "file_extension": ".py",
   "mimetype": "text/x-python",
   "name": "python",
   "nbconvert_exporter": "python",
   "pygments_lexer": "ipython3",
   "version": "3.12.2"
  }
 },
 "nbformat": 4,
 "nbformat_minor": 5
}
