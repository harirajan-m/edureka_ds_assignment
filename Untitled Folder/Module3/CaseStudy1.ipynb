{
 "cells": [
  {
   "cell_type": "markdown",
   "id": "0fc38e5e-18fc-47a3-a2cc-57fb81fdf356",
   "metadata": {},
   "source": [
    "1. A Robot moves in a Plane starting from the origin point (0,0). The robot can move toward UP, DOWN, LEFT, RIGHT. The trace of Robot movement is as given following:UP 5 DOWN 3 LEFT 3 RIGHT 2 The numbers after directions are steps.  \n",
    "\n",
    "Write a program to compute the distance current position after sequence of movements.\n",
    "\n",
    "Hint: Use math module.\n"
   ]
  },
  {
   "cell_type": "code",
   "execution_count": 6,
   "id": "a38111f2-336a-4467-8f5f-1cfae290f435",
   "metadata": {},
   "outputs": [
    {
     "name": "stdout",
     "output_type": "stream",
     "text": [
      "Start position is (0, 0)\n",
      "After moving up is (0, 5)\n",
      "After moving down is (0, 2)\n",
      "After moving left is (-3, 2)\n",
      "After moving right is (-1, 2)\n"
     ]
    }
   ],
   "source": [
    "import math\n",
    "def moveUp(coord,times):\n",
    "    x,y = coord\n",
    "    new_x = x\n",
    "    new_y = y + times\n",
    "    return new_x,new_y\n",
    "\n",
    "def moveDown(coord,times):\n",
    "    x,y = coord\n",
    "    new_x = x\n",
    "    new_y = y - times\n",
    "    return new_x,new_y\n",
    "\n",
    "def moveLeft(coord,times):\n",
    "    x,y = coord\n",
    "    new_x = x - times\n",
    "    new_y = y\n",
    "    return new_x,new_y\n",
    "    \n",
    "def moveRight(coord,times):\n",
    "    x,y = coord\n",
    "    new_x = x + times\n",
    "    new_y = y\n",
    "    return new_x,new_y\n",
    "\n",
    "start = (0,0)\n",
    "print(\"Start position is {}\".format(start))\n",
    "curr_position = moveUp(start,5)\n",
    "print(\"After moving up is {}\".format(curr_position))\n",
    "curr_position = moveDown(curr_position,3)\n",
    "print(\"After moving down is {}\".format(curr_position))\n",
    "curr_position = moveLeft(curr_position,3)\n",
    "print(\"After moving left is {}\".format(curr_position))\n",
    "curr_position = moveRight(curr_position,2)\n",
    "print(\"After moving right is {}\".format(curr_position))\n"
   ]
  },
  {
   "cell_type": "markdown",
   "id": "7c32c8bb-e25e-4ee3-ba88-54687f3d5ec4",
   "metadata": {},
   "source": [
    "2. Data of XYZ company is stored in sorted list. Write a program for searching specific data from that list.\n",
    "\n",
    "Hint: Use if/elif to deal with conditions."
   ]
  },
  {
   "cell_type": "code",
   "execution_count": 9,
   "id": "7042a4ec-5a13-416f-a56e-37c496c72dc7",
   "metadata": {},
   "outputs": [
    {
     "name": "stdout",
     "output_type": "stream",
     "text": [
      "Found 50 at index 4.\n"
     ]
    }
   ],
   "source": [
    "def search(data,value):\n",
    "    i = 0\n",
    "    n = len(data) - 1\n",
    "    while i <= n:\n",
    "        mid = (i + n) // 2\n",
    "        mid_value = data[mid]\n",
    "        if(mid_value == value):\n",
    "            return mid\n",
    "        elif mid_value < value :\n",
    "            i = mid + 1\n",
    "        else:\n",
    "            n = mid - 1\n",
    "    return -1   \n",
    "\n",
    "data = [10, 20, 30, 40, 50, 60, 70, 80, 90, 100]  \n",
    "target = 50  \n",
    "\n",
    "index = search(data, target)\n",
    "if index != -1:\n",
    "    print(f\"Found {target} at index {index}.\")\n",
    "else:\n",
    "    print(f\"{target} not found.\")\n",
    "            "
   ]
  },
  {
   "cell_type": "markdown",
   "id": "b6353bf9-940c-4c0b-aba0-765f4d1775d4",
   "metadata": {},
   "source": [
    "3. Weather forecasting organization wants to show is it day or night. So, write a program for such organization to findwhether is it dark outside or not.Hint: Use time module.\n",
    "   "
   ]
  },
  {
   "cell_type": "code",
   "execution_count": 14,
   "id": "690fcf9d-5acb-4d88-8b38-e1fa50e70033",
   "metadata": {},
   "outputs": [
    {
     "name": "stdout",
     "output_type": "stream",
     "text": [
      "Current time is 10:20:29 PM\n",
      "It's dark outside.\n"
     ]
    }
   ],
   "source": [
    "import time\n",
    "\n",
    "def is_dark():\n",
    "    current_time = time.localtime()  \n",
    "    hour = current_time.tm_hour  \n",
    "\n",
    "    dark_start_hour = 18  # 6 PM\n",
    "    dark_end_hour = 6      # 6 AM\n",
    "\n",
    "    # Check if the current hour is within the dark range\n",
    "    if hour >= dark_start_hour or hour < dark_end_hour:\n",
    "        return True  # It's dark\n",
    "    else:\n",
    "        return False  # It's not dark\n",
    "\n",
    "# Example usage\n",
    "\n",
    "formatted_time = time.strftime(\"%I:%M:%S %p\", time.localtime())\n",
    "print(\"Current time is {}\".format(formatted_time))\n",
    "if is_dark():\n",
    "    print(\"It's dark outside.\")\n",
    "else:\n",
    "    print(\"It's not dark outside.\")\n"
   ]
  },
  {
   "cell_type": "markdown",
   "id": "4da854fb-c04a-45cd-93d8-229d0a9a5e45",
   "metadata": {},
   "source": [
    "4. Write a program to find distance between two locations when their latitude and longitudes are given.Hint: Use math module."
   ]
  },
  {
   "cell_type": "code",
   "execution_count": 18,
   "id": "ff213a7a-c61a-433d-ab97-6d5f2c3e1b46",
   "metadata": {},
   "outputs": [
    {
     "name": "stdout",
     "output_type": "stream",
     "text": [
      "Distance between the two locations: 14419.68 kilometers\n"
     ]
    }
   ],
   "source": [
    "import math\n",
    "\n",
    "def haversine(lat1, lon1, lat2, lon2):\n",
    "    \"\"\"\n",
    "    Calculate the great circle distance between two points \n",
    "    on the earth (specified in decimal degrees)\n",
    "    \"\"\"\n",
    "    # Convert decimal degrees to radians\n",
    "    lat1, lon1, lat2, lon2 = map(math.radians, [lat1, lon1, lat2, lon2])\n",
    "\n",
    "    # Haversine formula\n",
    "    dlon = lon2 - lon1\n",
    "    dlat = lat2 - lat1\n",
    "    a = math.sin(dlat / 2) ** 2 + math.cos(lat1) * math.cos(lat2) * math.sin(dlon / 2) ** 2\n",
    "    c = 2 * math.atan2(math.sqrt(a), math.sqrt(1 - a))\n",
    "    radius_of_earth = 6371  # Radius of the Earth in kilometers\n",
    "    distance = radius_of_earth * c\n",
    "\n",
    "    return distance\n",
    "\n",
    "# Example usage\n",
    "latitude1 = 13.0825  # Latitude of location 1 (e.g., Chennai)\n",
    "longitude1 = 80.275  # Longitude of location 1\n",
    "latitude2 = 34.0522  # Latitude of location 2 (e.g., Los Angeles)\n",
    "longitude2 = -118.2437  # Longitude of location 2\n",
    "\n",
    "distance = haversine(latitude1, longitude1, latitude2, longitude2)\n",
    "print(\"Distance between the two locations: {:.2f} kilometers\".format(distance))\n"
   ]
  },
  {
   "cell_type": "markdown",
   "id": "2e45b826-5666-4fb2-95ee-e2980637bc5d",
   "metadata": {},
   "source": [
    "5. Design a software for bank system. There should be options like cash withdraw, cash credit and change password.\n",
    "   According to user input, the software should provide required output.\n",
    "   Hint: Use if else statements and functions."
   ]
  },
  {
   "cell_type": "code",
   "execution_count": 19,
   "id": "ab7e91c7-4d27-4cb7-a1ca-77ed647a91c8",
   "metadata": {},
   "outputs": [
    {
     "name": "stdout",
     "output_type": "stream",
     "text": [
      "\n",
      "Options:\n",
      "1. Withdraw Cash\n",
      "2. Credit Cash\n",
      "3. Change Password\n",
      "4. Exit\n"
     ]
    },
    {
     "name": "stdin",
     "output_type": "stream",
     "text": [
      "Enter your choice:  1\n",
      "Enter the amount to withdraw:  100\n"
     ]
    },
    {
     "name": "stdout",
     "output_type": "stream",
     "text": [
      "Insufficient balance.\n",
      "\n",
      "Options:\n",
      "1. Withdraw Cash\n",
      "2. Credit Cash\n",
      "3. Change Password\n",
      "4. Exit\n"
     ]
    },
    {
     "name": "stdin",
     "output_type": "stream",
     "text": [
      "Enter your choice:  2\n",
      "Enter the amount to credit:  200\n"
     ]
    },
    {
     "name": "stdout",
     "output_type": "stream",
     "text": [
      "Amount credited successfully. Current balance: 200.0\n",
      "\n",
      "Options:\n",
      "1. Withdraw Cash\n",
      "2. Credit Cash\n",
      "3. Change Password\n",
      "4. Exit\n"
     ]
    },
    {
     "name": "stdin",
     "output_type": "stream",
     "text": [
      "Enter your choice:  3\n",
      "Enter new password:  123456\n"
     ]
    },
    {
     "name": "stdout",
     "output_type": "stream",
     "text": [
      "Password changed successfully.\n",
      "\n",
      "Options:\n",
      "1. Withdraw Cash\n",
      "2. Credit Cash\n",
      "3. Change Password\n",
      "4. Exit\n"
     ]
    },
    {
     "name": "stdin",
     "output_type": "stream",
     "text": [
      "Enter your choice:  4\n"
     ]
    },
    {
     "name": "stdout",
     "output_type": "stream",
     "text": [
      "Exiting...\n"
     ]
    }
   ],
   "source": [
    "class BankSystem:\n",
    "    def __init__(self, balance=0, password=\"1234\"):\n",
    "        self.balance = balance\n",
    "        self.password = password\n",
    "\n",
    "    def withdraw_cash(self, amount):\n",
    "        if amount > self.balance:\n",
    "            print(\"Insufficient balance.\")\n",
    "        else:\n",
    "            self.balance -= amount\n",
    "            print(f\"Withdrawal successful. Remaining balance: {self.balance}\")\n",
    "\n",
    "    def credit_cash(self, amount):\n",
    "        self.balance += amount\n",
    "        print(f\"Amount credited successfully. Current balance: {self.balance}\")\n",
    "\n",
    "    def change_password(self, new_password):\n",
    "        self.password = new_password\n",
    "        print(\"Password changed successfully.\")\n",
    "\n",
    "def main():\n",
    "    bank = BankSystem()\n",
    "\n",
    "    while True:\n",
    "        print(\"\\nOptions:\")\n",
    "        print(\"1. Withdraw Cash\")\n",
    "        print(\"2. Credit Cash\")\n",
    "        print(\"3. Change Password\")\n",
    "        print(\"4. Exit\")\n",
    "\n",
    "        choice = input(\"Enter your choice: \")\n",
    "\n",
    "        if choice == '1':\n",
    "            amount = float(input(\"Enter the amount to withdraw: \"))\n",
    "            bank.withdraw_cash(amount)\n",
    "        elif choice == '2':\n",
    "            amount = float(input(\"Enter the amount to credit: \"))\n",
    "            bank.credit_cash(amount)\n",
    "        elif choice == '3':\n",
    "            new_password = input(\"Enter new password: \")\n",
    "            bank.change_password(new_password)\n",
    "        elif choice == '4':\n",
    "            print(\"Exiting...\")\n",
    "            break\n",
    "        else:\n",
    "            print(\"Invalid choice. Please select a valid option.\")\n",
    "\n",
    "if __name__ == \"__main__\":\n",
    "    main()\n"
   ]
  },
  {
   "cell_type": "markdown",
   "id": "79af7e26-d920-4cbe-933d-12872497e30a",
   "metadata": {},
   "source": [
    "6. Write a program which will find all such numbers which are divisible by 7 but are not a multiple of 5, between 2000 and 3200 (both included). The numbers obtained should be printed in a comma-separated sequence on a single line."
   ]
  },
  {
   "cell_type": "code",
   "execution_count": 20,
   "id": "482469d8-2467-4e5c-b3fb-fcad74e8db27",
   "metadata": {},
   "outputs": [
    {
     "name": "stdout",
     "output_type": "stream",
     "text": [
      "2002,2009,2016,2023,2037,2044,2051,2058,2072,2079,2086,2093,2107,2114,2121,2128,2142,2149,2156,2163,2177,2184,2191,2198,2212,2219,2226,2233,2247,2254,2261,2268,2282,2289,2296,2303,2317,2324,2331,2338,2352,2359,2366,2373,2387,2394,2401,2408,2422,2429,2436,2443,2457,2464,2471,2478,2492,2499,2506,2513,2527,2534,2541,2548,2562,2569,2576,2583,2597,2604,2611,2618,2632,2639,2646,2653,2667,2674,2681,2688,2702,2709,2716,2723,2737,2744,2751,2758,2772,2779,2786,2793,2807,2814,2821,2828,2842,2849,2856,2863,2877,2884,2891,2898,2912,2919,2926,2933,2947,2954,2961,2968,2982,2989,2996,3003,3017,3024,3031,3038,3052,3059,3066,3073,3087,3094,3101,3108,3122,3129,3136,3143,3157,3164,3171,3178,3192,3199\n"
     ]
    }
   ],
   "source": [
    "result = []\n",
    "\n",
    "for num in range(2000, 3201):\n",
    "    if num % 7 == 0 and num % 5 != 0:\n",
    "        result.append(str(num))\n",
    "\n",
    "print(\",\".join(result))\n"
   ]
  },
  {
   "cell_type": "markdown",
   "id": "6d6acf60-e1cc-4f8b-b597-468fe90e1419",
   "metadata": {},
   "source": [
    "7. Write a program which can compute the factorial of a given numbers. Use recursion to find it. \n",
    "  Hint: Suppose the following input is supplied to the program:8 Then, the output should be: 40320\n"
   ]
  },
  {
   "cell_type": "code",
   "execution_count": 21,
   "id": "78c7b327-1217-4623-8278-2b5c709cd648",
   "metadata": {},
   "outputs": [
    {
     "name": "stdout",
     "output_type": "stream",
     "text": [
      "Factorial of 8 is 40320\n"
     ]
    }
   ],
   "source": [
    "def factorial(n):\n",
    "    if n == 0 or n == 1:\n",
    "        return 1\n",
    "    else:\n",
    "        return n * factorial(n - 1)\n",
    "\n",
    "# Example usage\n",
    "number = 8\n",
    "result = factorial(number)\n",
    "print(\"Factorial of\", number, \"is\", result)\n"
   ]
  },
  {
   "cell_type": "markdown",
   "id": "6e7d9411-549d-4198-b99d-dfdf5275c620",
   "metadata": {},
   "source": [
    "8. Write a program that calculates and prints the value according to the given formula:Q = Square root of [(2 * C * D)/H]\n",
    "   Following are the fixed values of C and H: C is 50. H is 30.\n",
    "   D  is  the  variable  whose  values  should  be  input  to  your  program  in  a  comma-separated sequence.\n",
    "   Example:Let  us  assume  the  following  comma  separated  input  sequence  is  given  to  the program:100,150,180\n",
    "   The output of the program should be:18,22,24"
   ]
  },
  {
   "cell_type": "code",
   "execution_count": 22,
   "id": "088b01ed-62af-4c7b-845d-adf569e3095b",
   "metadata": {},
   "outputs": [
    {
     "name": "stdin",
     "output_type": "stream",
     "text": [
      "Enter comma-separated values of D:  100,150,180\n"
     ]
    },
    {
     "name": "stdout",
     "output_type": "stream",
     "text": [
      "Output: 18,22,24\n"
     ]
    }
   ],
   "source": [
    "import math\n",
    "\n",
    "def calculate_Q(D):\n",
    "    C = 50\n",
    "    H = 30\n",
    "    return int(math.sqrt((2 * C * D) / H))\n",
    "\n",
    "# Example usage\n",
    "input_sequence = input(\"Enter comma-separated values of D: \")\n",
    "values = input_sequence.split(',')\n",
    "\n",
    "result = [str(calculate_Q(int(D))) for D in values]\n",
    "output = \",\".join(result)\n",
    "print(\"Output:\", output)\n"
   ]
  },
  {
   "cell_type": "markdown",
   "id": "c040a995-ba06-42fd-9a95-b2e8c8279d64",
   "metadata": {},
   "source": [
    "9. Write a program which takes 2 digits, X,Y as input and generates a 2-dimensional array.\n",
    "   The element value in the i-th row and j-th column of the array should be i*j.\n",
    "   Note: i=0,1.., X-1; j=0,1,¡-Y-1.\n",
    "   Example:Suppose the following inputs are given to the program: 3,5\n",
    "   Then, the output of the program should be:[[0, 0, 0, 0, 0], [0, 1, 2, 3, 4], [0, 2, 4, 6, 8]] "
   ]
  },
  {
   "cell_type": "code",
   "execution_count": 23,
   "id": "1a528b09-74da-4808-96f4-69c68651f830",
   "metadata": {},
   "outputs": [
    {
     "name": "stdin",
     "output_type": "stream",
     "text": [
      "Enter two digits X and Y separated by comma:  3,5\n"
     ]
    },
    {
     "name": "stdout",
     "output_type": "stream",
     "text": [
      "Output:\n",
      "[0, 0, 0, 0, 0]\n",
      "[0, 1, 2, 3, 4]\n",
      "[0, 2, 4, 6, 8]\n"
     ]
    }
   ],
   "source": [
    "def generate_array(X, Y):\n",
    "    result = []\n",
    "    for i in range(X):\n",
    "        row = []\n",
    "        for j in range(Y):\n",
    "            row.append(i * j)\n",
    "        result.append(row)\n",
    "    return result\n",
    "\n",
    "# Example usage\n",
    "X, Y = map(int, input(\"Enter two digits X and Y separated by comma: \").split(','))\n",
    "\n",
    "array_2d = generate_array(X, Y)\n",
    "print(\"Output:\")\n",
    "for row in array_2d:\n",
    "    print(row)\n"
   ]
  },
  {
   "cell_type": "markdown",
   "id": "58e9decf-8255-4f01-af08-2d623e04bff1",
   "metadata": {},
   "source": [
    "10. Write a program that accepts a comma separated sequence of words as input and prints the words in a comma-separated sequence after sorting them alphabetically. Suppose the following input is supplied to the program:without,hello,bag,worldThen, the output should be:bag,hello,without,world"
   ]
  },
  {
   "cell_type": "code",
   "execution_count": null,
   "id": "92937b46-2367-4726-80a2-58e956e3c9b4",
   "metadata": {},
   "outputs": [],
   "source": []
  },
  {
   "cell_type": "markdown",
   "id": "a1482f5f-fbc6-42ed-960b-85855d589ad3",
   "metadata": {},
   "source": [
    "11. Write a program that accepts sequence of lines as input and prints the lines after making all characters in the sentence capitalized. Suppose the following inputis supplied to the program:Hello worldPractice makes perfectThen, the output should be:HELLO WORLDPRACTICE MAKES PERFECT"
   ]
  },
  {
   "cell_type": "code",
   "execution_count": null,
   "id": "18a4f00e-73ca-4398-8738-87b302c87be0",
   "metadata": {},
   "outputs": [],
   "source": []
  },
  {
   "cell_type": "markdown",
   "id": "97d70b1d-198e-4c36-8a9d-6170829b260d",
   "metadata": {},
   "source": [
    "    \n",
    "12. Write a program that accepts a sequence of whitespace separated words as input and   prints   the   words   after   removing   all   duplicate   words   and   sorting   them alphanumerically. Suppose the following input is supplied to the program:hello world and practice makes perfect and hello world againThen, the output should be:again and hello makes perfect practice world"
   ]
  },
  {
   "cell_type": "code",
   "execution_count": null,
   "id": "55af07ff-a28a-49e0-b1bc-764ffdba00dc",
   "metadata": {},
   "outputs": [],
   "source": []
  },
  {
   "cell_type": "markdown",
   "id": "6e797b08-11b8-48db-adde-58e0d6bb70e6",
   "metadata": {},
   "source": [
    "13. Write  a  program  which  accepts  a  sequence  of  comma  separated  4  digit  binary numbers  as  its  input  and  then  check  whether  they  are  divisible  by  5  or  not.  The numbers that are divisible by 5 are to be printed in a comma separated sequence.\n",
    "\n",
    "    Example:0100,0011,1010,1001 Then the output should be:1010"
   ]
  },
  {
   "cell_type": "code",
   "execution_count": null,
   "id": "715e6fb9-e089-4418-b584-57685245a10b",
   "metadata": {},
   "outputs": [],
   "source": []
  },
  {
   "cell_type": "markdown",
   "id": "439df4ee-3ae1-4fda-a199-bda52f661a6c",
   "metadata": {},
   "source": [
    "14. Write  a  program  that  accepts  a  sentence  and  calculate  the  number  of  upper  case letters and lower case letters.Suppose the following input is supplied to the program:Hello world!Then, the output should be:UPPER CASE 1LOWER CASE 9"
   ]
  },
  {
   "cell_type": "code",
   "execution_count": null,
   "id": "6b8f27ca-b271-42fb-a6bc-9f6be256d310",
   "metadata": {},
   "outputs": [],
   "source": []
  },
  {
   "cell_type": "markdown",
   "id": "5d623f8b-d1e7-454c-b776-4e494a5b2f0d",
   "metadata": {},
   "source": [
    "15. Give example of fsum and sum function of math library."
   ]
  },
  {
   "cell_type": "markdown",
   "id": "cd5ec759-a309-44ba-be25-2e84bed7c40d",
   "metadata": {},
   "source": []
  }
 ],
 "metadata": {
  "kernelspec": {
   "display_name": "Python 3 (ipykernel)",
   "language": "python",
   "name": "python3"
  },
  "language_info": {
   "codemirror_mode": {
    "name": "ipython",
    "version": 3
   },
   "file_extension": ".py",
   "mimetype": "text/x-python",
   "name": "python",
   "nbconvert_exporter": "python",
   "pygments_lexer": "ipython3",
   "version": "3.12.2"
  }
 },
 "nbformat": 4,
 "nbformat_minor": 5
}
